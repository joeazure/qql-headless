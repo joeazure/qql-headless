{
 "cells": [
  {
   "cell_type": "code",
   "execution_count": 1,
   "metadata": {},
   "outputs": [],
   "source": [
    "const utils = require(\"./utils\");\n",
    "const traitsLib = require(\"./vendor/qql-traits.min.js\");"
   ]
  },
  {
   "cell_type": "code",
   "execution_count": 2,
   "metadata": {},
   "outputs": [],
   "source": [
    "const traits = {\n",
    "    flowField: \"Horizontal\", // 3 bits\t\t\t\t\t0000 / 0000 / 0000 / 0000 / 0000 / 0000 / 0XXX\n",
    "    turbulence: \"None\", // NON-ENCODED 2 bits\t\t\t0000 / 0000 / 0000 / 0000 / 0000 / 000X / X000\n",
    "    margin: \"None\", // NON-ENCODED 2 bits\t\t\t\t0000 / 0000 / 0000 / 0000 / 0000 / 0XX0 / 0000\n",
    "    colorVariety: \"Low\", // NON-ENCODED 2 bits\t\t\t0000 / 0000 / 0000 / 0000 / 000X / X000 / 0000\n",
    "    colorMode: \"Simple\", // NON-ENCODED 2 bits\t\t\t0000 / 0000 / 0000 / 0000 / 0XX0 / 0000 / 0000\n",
    "    structure: \"Orbital\", // NON-ENCODED 2 bits\t\t\t0000 / 0000 / 0000 / 000X / X000 / 0000 / 0000\n",
    "    bullseyeRings1: \"On\", // NON-ENCODED 1 bit\t\t\t0000 / 0000 / 0000 / 00X0 / 0000 / 0000 / 0000\n",
    "    bullseyeRings3: \"On\", // NON-ENCODED 1 bit\t\t\t0000 / 0000 / 0000 / 0X00 / 0000 / 0000 / 0000\n",
    "    bullseyeRings7: \"On\", // NON-ENCODED 1 bit\t\t\t0000 / 0000 / 0000 / X000 / 0000 / 0000 / 0000\n",
    "    ringThickness: \"Thin\", // NON-ENCODED 2 bits\t\t0000 / 0000 / 00XX / 0000 / 0000 / 0000 / 0000\n",
    "    ringSize: \"Small\", // NON-ENCODED 2 bits\t\t\t0000 / 0000 / XX00 / 0000 / 0000 / 0000 / 0000\n",
    "    sizeVariety: \"Constant\", // NON-ENCODED 2 bits\t\t0000 / 00XX / 0000 / 0000 / 0000 / 0000 / 0000\n",
    "    colorPalette: \"Austin\", // 3 bits\t\t\t\t\t000X / XX00 / 0000 / 0000 / 0000 / 0000 / 0000\n",
    "    spacing: \"Dense\", // NON-ENCODED 2 bits\t\t\t\t0XX0 / 0000 / 0000 / 0000 / 0000 / 0000 / 0000\n",
    "    version: 1\n",
    "};\n"
   ]
  },
  {
   "cell_type": "code",
   "execution_count": 3,
   "metadata": {},
   "outputs": [],
   "source": [
    "\n",
    "const traits_138 = {\n",
    "    flowField: \"Spiral\", // 3 bits\t\t\t\t\t0000 / 0000 / 0000 / 0000 / 0000 / 0000 / 0XXX\n",
    "    turbulence: \"High\", // NON-ENCODED 2 bits\t\t\t0000 / 0000 / 0000 / 0000 / 0000 / 000X / X000\n",
    "    margin: \"Wide\", // NON-ENCODED 2 bits\t\t\t\t0000 / 0000 / 0000 / 0000 / 0000 / 0XX0 / 0000\n",
    "    colorVariety: \"High\", // NON-ENCODED 2 bits\t\t\t0000 / 0000 / 0000 / 0000 / 000X / X000 / 0000\n",
    "    colorMode: \"Stacked\", // NON-ENCODED 2 bits\t\t\t0000 / 0000 / 0000 / 0000 / 0XX0 / 0000 / 0000\n",
    "    structure: \"Orbital\", // NON-ENCODED 2 bits\t\t\t0000 / 0000 / 0000 / 000X / X000 / 0000 / 0000\n",
    "    bullseyeRings1: \"Off\", // NON-ENCODED 1 bit\t\t\t0000 / 0000 / 0000 / 00X0 / 0000 / 0000 / 0000\n",
    "    bullseyeRings3: \"Off\", // NON-ENCODED 1 bit\t\t\t0000 / 0000 / 0000 / 0X00 / 0000 / 0000 / 0000\n",
    "    bullseyeRings7: \"On\", // NON-ENCODED 1 bit\t\t\t0000 / 0000 / 0000 / X000 / 0000 / 0000 / 0000\n",
    "    ringThickness: \"Thick\", // NON-ENCODED 2 bits\t\t0000 / 0000 / 00XX / 0000 / 0000 / 0000 / 0000\n",
    "    ringSize: \"Medium\", // NON-ENCODED 2 bits\t\t\t0000 / 0000 / XX00 / 0000 / 0000 / 0000 / 0000\n",
    "    sizeVariety: \"Wild\", // NON-ENCODED 2 bits\t\t0000 / 00XX / 0000 / 0000 / 0000 / 0000 / 0000\n",
    "    colorPalette: \"Austin\", // 3 bits\t\t\t\t\t000X / XX00 / 0000 / 0000 / 0000 / 0000 / 0000\n",
    "    spacing: \"Medium\", // NON-ENCODED 2 bits\t\t\t\t0XX0 / 0000 / 0000 / 0000 / 0000 / 0000 / 0000\n",
    "    version: 1\n",
    "};\n",
    "\n",
    "const traits_138_v = {\n",
    "    flowField: \"Spiral\", // 3 bits\t\t\t\t\t0000 / 0000 / 0000 / 0000 / 0000 / 0000 / 0XXX\n",
    "    turbulence: \"High\", // NON-ENCODED 2 bits\t\t\t0000 / 0000 / 0000 / 0000 / 0000 / 000X / X000\n",
    "    margin: \"Wide\", // NON-ENCODED 2 bits\t\t\t\t0000 / 0000 / 0000 / 0000 / 0000 / 0XX0 / 0000\n",
    "    colorVariety: \"High\", // NON-ENCODED 2 bits\t\t\t0000 / 0000 / 0000 / 0000 / 000X / X000 / 0000\n",
    "    colorMode: \"Stacked\", // NON-ENCODED 2 bits\t\t\t0000 / 0000 / 0000 / 0000 / 0XX0 / 0000 / 0000\n",
    "    structure: \"Orbital\", // NON-ENCODED 2 bits\t\t\t0000 / 0000 / 0000 / 000X / X000 / 0000 / 0000\n",
    "    bullseyeRings1: \"Off\", // NON-ENCODED 1 bit\t\t\t0000 / 0000 / 0000 / 00X0 / 0000 / 0000 / 0000\n",
    "    bullseyeRings3: \"Off\", // NON-ENCODED 1 bit\t\t\t0000 / 0000 / 0000 / 0X00 / 0000 / 0000 / 0000\n",
    "    bullseyeRings7: \"On\", // NON-ENCODED 1 bit\t\t\t0000 / 0000 / 0000 / X000 / 0000 / 0000 / 0000\n",
    "    ringThickness: \"Thick\", // NON-ENCODED 2 bits\t\t0000 / 0000 / 00XX / 0000 / 0000 / 0000 / 0000\n",
    "    ringSize: \"Medium\", // NON-ENCODED 2 bits\t\t\t0000 / 0000 / XX00 / 0000 / 0000 / 0000 / 0000\n",
    "    sizeVariety: \"Wild\", // NON-ENCODED 2 bits\t\t0000 / 00XX / 0000 / 0000 / 0000 / 0000 / 0000\n",
    "    colorPalette: \"Austin\", // 3 bits\t\t\t\t\t000X / XX00 / 0000 / 0000 / 0000 / 0000 / 0000\n",
    "    spacing: \"Medium\", // NON-ENCODED 2 bits\t\t\t\t0XX0 / 0000 / 0000 / 0000 / 0000 / 0000 / 0000\n",
    "    version: -1\n",
    "};"
   ]
  },
  {
   "cell_type": "code",
   "execution_count": 4,
   "metadata": {},
   "outputs": [],
   "source": [
    "const addr = \"0x37B15E06Ad0F4520CCDd8c2557D2a28DA0354f7D\";"
   ]
  },
  {
   "cell_type": "code",
   "execution_count": 5,
   "metadata": {},
   "outputs": [
    {
     "name": "stdout",
     "output_type": "stream",
     "text": [
      "0x37b15e06ad0f4520ccdd8c2557d2a28da0354f7db8c357d1e282ffff12256355\n",
      "0x37b15e06ad0f4520ccdd8c2557d2a28da0354f7db8c357d1e282ffff12256355\n"
     ]
    }
   ],
   "source": [
    "var calculated = utils.calc_seed(addr, traits_138);\n",
    "console.log(calculated);\n"
   ]
  },
  {
   "cell_type": "code",
   "execution_count": null,
   "metadata": {},
   "outputs": [],
   "source": [
    "\n",
    "\n",
    "var t = traitsLib.extractTraits(calculated);\n",
    "console.log(\"Traits:\", JSON.stringify(t, null, 2));"
   ]
  },
  {
   "cell_type": "code",
   "execution_count": null,
   "metadata": {},
   "outputs": [],
   "source": [
    "// Twiddle to get version = 1\n",
    "//0x37b15e06ad0f4520ccdd8c2557d2a28da0354f7d8bb191effd46000002256355   (46) contains version in first bit?\n",
    "var v1_seed = \"0x37b15e06ad0f4520ccdd8c2557d2a28da0354f7d0cde12cf289b000002256355\"\n",
    "//var v1_seed2 = \"0xd050c97e76f882187c781feb2e74345227e2f7107ac1308d29c4ffff12e90526\"\n",
    "console.log\n",
    "t = traitsLib.extractTraits(v1_seed);\n",
    "console.log(\"Traits:\", JSON.stringify(t, null, 2));"
   ]
  }
 ],
 "metadata": {
  "kernelspec": {
   "display_name": "JavaScript (Node.js)",
   "language": "javascript",
   "name": "javascript"
  },
  "language_info": {
   "file_extension": ".js",
   "mimetype": "application/javascript",
   "name": "javascript",
   "version": "18.11.0"
  },
  "orig_nbformat": 4,
  "vscode": {
   "interpreter": {
    "hash": "31f2aee4e71d21fbe5cf8b01ff0e069b9275f58929596ceb00d14d90e3e16cd6"
   }
  }
 },
 "nbformat": 4,
 "nbformat_minor": 2
}
