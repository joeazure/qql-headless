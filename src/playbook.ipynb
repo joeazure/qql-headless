{
 "cells": [
  {
   "cell_type": "code",
   "execution_count": null,
   "metadata": {},
   "outputs": [],
   "source": [
    "var seed = \"0x37b15e06ad0f4520ccdd8c2557d2a28da0354f7d7ad08802afdcffff10a2ebb7\";\n",
    "\n",
    "const utils = require(\"./utils\");\n",
    "const db = require(\"./models\");\n",
    "db.sequelize.sync()\n",
    "  .then(() => {\n",
    "    console.log(\"Synced db.\");\n",
    "  })\n",
    "  .catch((err) => {\n",
    "    console.log(\"Failed to sync db: \" + err.message);\n",
    "  });\n",
    "\n",
    "  const seed_db = require('./seed_db.js');\n"
   ]
  },
  {
   "cell_type": "code",
   "execution_count": null,
   "metadata": {},
   "outputs": [],
   "source": [
    "seed_db.ingest_seed(seed);"
   ]
  },
  {
   "cell_type": "code",
   "execution_count": null,
   "metadata": {},
   "outputs": [],
   "source": [
    "var dir_name = \"/Users/jazure/GenerativeArt/forks/qql-headless/outputs-1\";\n",
    "var seed_list = utils.seedlist_from_dir(dir_name);\n",
    "seed_db.ingest_seed_list(seed_list);\n"
   ]
  },
  {
   "cell_type": "code",
   "execution_count": 1,
   "metadata": {},
   "outputs": [
    {
     "name": "stdout",
     "output_type": "stream",
     "text": [
      "<Buffer 52 49 46 46 04 80 17 00 57 45 42 50 56 50 38 20 f8 7f 17 00 50 ef 47 9d 01 2a 60 09 b8 0b 3e a5 42 99 49 a6 23 a2 a2 36 d8 8e 20 c0 14 89 6c 6e 96 9c ... 1540058 more bytes>\n"
     ]
    }
   ],
   "source": [
    "const webp=require('webp-converter');\n",
    "const fs = require(\"fs\");\n",
    "const path = require(\"path\");\n",
    "\n",
    "const f = \"0x37b15e06ad0f4520ccdd8c2557d2a28da0354f7d205e09242915ffff10ad83af.png\";\n",
    "const o = \"./\"\n",
    "fs.readFile(f, function (error, data) {\n",
    "    if (error) {\n",
    "      throw error;\n",
    "    } else {\n",
    "      // buffer of image\n",
    "    // buffer image type jpg,png ...\n",
    "    //option: options and quality,it should be given between 0 to 100\n",
    "      let result = webp.buffer2webpbuffer(data,\"png\",\"-q 60\", o);\n",
    "      result.then(function(result) {\n",
    "        // you access the value from the promise here\n",
    "        outfile = path.join(o, f+\".webp\");\n",
    "        fs.writeFileSync(outfile, result);\n",
    "        //console.log(result)\n",
    "      });\n",
    "    }\n",
    "});"
   ]
  },
  {
   "cell_type": "code",
   "execution_count": 2,
   "metadata": {},
   "outputs": [
    {
     "name": "stdout",
     "output_type": "stream",
     "text": [
      "Traits: {\n",
      "  \"flowField\": \"Vertical\",\n",
      "  \"turbulence\": \"Low\",\n",
      "  \"margin\": \"Crisp\",\n",
      "  \"colorVariety\": \"Medium\",\n",
      "  \"colorMode\": \"Stacked\",\n",
      "  \"structure\": \"Formation\",\n",
      "  \"bullseyeRings1\": \"Off\",\n",
      "  \"bullseyeRings3\": \"Off\",\n",
      "  \"bullseyeRings7\": \"Off\",\n",
      "  \"ringThickness\": \"Mixed\",\n",
      "  \"ringSize\": \"Small\",\n",
      "  \"sizeVariety\": \"Wild\",\n",
      "  \"colorPalette\": \"Miami\",\n",
      "  \"spacing\": \"Medium\",\n",
      "  \"version\": 1\n",
      "}\n"
     ]
    },
    {
     "data": {
      "text/plain": [
       "Promise { <pending> }"
      ]
     },
     "execution_count": 2,
     "metadata": {},
     "output_type": "execute_result"
    },
    {
     "name": "stdout",
     "output_type": "stream",
     "text": [
      "{\n",
      "  backgroundColor: 'Miami Rich Blue',\n",
      "  colorsUsed: [ 'mYellow2', 'mWhite', 'mPink2', 'mPurple2', 'mTeal' ],\n",
      "  numPoints: 17282,\n",
      "  numColors: 5\n",
      "}\n"
     ]
    },
    {
     "name": "stderr",
     "output_type": "stream",
     "text": [
      "TypeError: Cannot destructure property 'imageData' of '(intermediate value)' as it is undefined.\n",
      "    at run (evalmachine.<anonymous>:9:13)"
     ]
    },
    {
     "name": "stdout",
     "output_type": "stream",
     "text": [
      "{\n",
      "  backgroundColor: 'Miami White',\n",
      "  colorsUsed: [ 'mLightBlue', 'mBlue', 'mPink', 'mYellow' ],\n",
      "  numPoints: 2866,\n",
      "  numColors: 4\n",
      "}\n"
     ]
    },
    {
     "name": "stderr",
     "output_type": "stream",
     "text": [
      "TypeError: Cannot destructure property 'imageData' of '(intermediate value)' as it is undefined.\n",
      "    at run (evalmachine.<anonymous>:9:13)"
     ]
    }
   ],
   "source": [
    "// Render One - gety render data\n",
    "async function run() {\n",
    "    const render = require(\"./render\");\n",
    "    const traitsLib = require(\"./vendor/qql-traits.min.js\");\n",
    "\n",
    "    const seed = \"0x10fc8ada6ad42880e5e524adda91f4d20026c2635e6ba92bc453ffff1322eaaa\";\n",
    "    const traits = traitsLib.extractTraits(seed);\n",
    "    console.log(\"Traits:\", JSON.stringify(traits, null, 2));\n",
    "    const { imageData, renderData } = await render({ seed, width: 2400 })\n",
    "        .then(result => {\n",
    "            console.log(result[\"renderData\"]);\n",
    "        });\n",
    "}\n",
    "run();\n"
   ]
  }
 ],
 "metadata": {
  "kernelspec": {
   "display_name": "JavaScript (Node.js)",
   "language": "javascript",
   "name": "javascript"
  },
  "language_info": {
   "file_extension": ".js",
   "mimetype": "application/javascript",
   "name": "javascript",
   "version": "18.11.0"
  },
  "orig_nbformat": 4,
  "vscode": {
   "interpreter": {
    "hash": "31f2aee4e71d21fbe5cf8b01ff0e069b9275f58929596ceb00d14d90e3e16cd6"
   }
  }
 },
 "nbformat": 4,
 "nbformat_minor": 2
}
