{
 "cells": [
  {
   "cell_type": "code",
   "execution_count": 1,
   "metadata": {},
   "outputs": [
    {
     "name": "stderr",
     "output_type": "stream",
     "text": [
      "(node:69763) [SEQUELIZE0004] DeprecationWarning: A boolean value was passed to options.operatorsAliases. This is a no-op with v5 and should be removed.\n",
      "(Use `node --trace-deprecation ...` to show where the warning was created)\n"
     ]
    }
   ],
   "source": [
    "var seed = \"0x37b15e06ad0f4520ccdd8c2557d2a28da0354f7d7ad08802afdcffff10a2ebb7\";\n",
    "\n",
    "const utils = require(\"./src/utils\");\n",
    "const db = require(\"./src/models\");"
   ]
  },
  {
   "cell_type": "code",
   "execution_count": 2,
   "metadata": {},
   "outputs": [],
   "source": [
    "const Wallet = db.Wallet;"
   ]
  },
  {
   "cell_type": "code",
   "execution_count": 5,
   "metadata": {},
   "outputs": [
    {
     "name": "stdout",
     "output_type": "stream",
     "text": [
      "{\n",
      "  eth_hex: '0x37b15e06ad0f4520ccdd8c2557d2a28da0354f7',\n",
      "  qql_hex: '7ad08802afdcffff10a2ebb7'\n",
      "}\n"
     ]
    },
    {
     "ename": "TypeError",
     "evalue": "db.ingest_seed is not a function",
     "output_type": "error",
     "traceback": [
      "evalmachine.<anonymous>:3",
      "db.ingest_seed(seed);",
      "   ^",
      "",
      "TypeError: db.ingest_seed is not a function",
      "    at evalmachine.<anonymous>:3:4",
      "    at Script.runInThisContext (node:vm:129:12)",
      "    at Object.runInThisContext (node:vm:313:38)",
      "    at run ([eval]:1020:15)",
      "    at onRunRequest ([eval]:864:18)",
      "    at onMessage ([eval]:828:13)",
      "    at process.emit (node:events:513:28)",
      "    at emit (node:internal/child_process:937:14)",
      "    at process.processTicksAndRejections (node:internal/process/task_queues:83:21)"
     ]
    }
   ],
   "source": [
    "const seed_db = require(\"./src/seed_db.js\");\n",
    "var split = utils.split_hexseed(seed);\n",
    "console.log(split);\n",
    "db.ingest_seed(seed);"
   ]
  }
 ],
 "metadata": {
  "kernelspec": {
   "display_name": "JavaScript (Node.js)",
   "language": "javascript",
   "name": "javascript"
  },
  "language_info": {
   "file_extension": ".js",
   "mimetype": "application/javascript",
   "name": "javascript",
   "version": "18.11.0"
  },
  "orig_nbformat": 4,
  "vscode": {
   "interpreter": {
    "hash": "31f2aee4e71d21fbe5cf8b01ff0e069b9275f58929596ceb00d14d90e3e16cd6"
   }
  }
 },
 "nbformat": 4,
 "nbformat_minor": 2
}
